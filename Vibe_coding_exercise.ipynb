{
  "nbformat": 4,
  "nbformat_minor": 0,
  "metadata": {
    "colab": {
      "provenance": []
    },
    "kernelspec": {
      "name": "python3",
      "display_name": "Python 3"
    },
    "language_info": {
      "name": "python"
    },
    "widgets": {
      "application/vnd.jupyter.widget-state+json": {
        "1e19d87060bc404a85628f3ca7437e68": {
          "model_module": "@jupyter-widgets/controls",
          "model_name": "HBoxModel",
          "model_module_version": "1.5.0",
          "state": {
            "_dom_classes": [],
            "_model_module": "@jupyter-widgets/controls",
            "_model_module_version": "1.5.0",
            "_model_name": "HBoxModel",
            "_view_count": null,
            "_view_module": "@jupyter-widgets/controls",
            "_view_module_version": "1.5.0",
            "_view_name": "HBoxView",
            "box_style": "",
            "children": [
              "IPY_MODEL_d643d7b61f8148c4ada0e83695eda3c7",
              "IPY_MODEL_825e74e32be4480aa1015c80b4d1b8f9",
              "IPY_MODEL_f0b94c50e3c54259ba17046e758d5d01"
            ],
            "layout": "IPY_MODEL_9e8f3d2e88394389b372cd028c9d1abd"
          }
        },
        "d643d7b61f8148c4ada0e83695eda3c7": {
          "model_module": "@jupyter-widgets/controls",
          "model_name": "HTMLModel",
          "model_module_version": "1.5.0",
          "state": {
            "_dom_classes": [],
            "_model_module": "@jupyter-widgets/controls",
            "_model_module_version": "1.5.0",
            "_model_name": "HTMLModel",
            "_view_count": null,
            "_view_module": "@jupyter-widgets/controls",
            "_view_module_version": "1.5.0",
            "_view_name": "HTMLView",
            "description": "",
            "description_tooltip": null,
            "layout": "IPY_MODEL_fce02b09eb5f45ebb04abb36356bc9b2",
            "placeholder": "​",
            "style": "IPY_MODEL_c4e061a40e3649a0acdd9d4a8b047f49",
            "value": "config.json: "
          }
        },
        "825e74e32be4480aa1015c80b4d1b8f9": {
          "model_module": "@jupyter-widgets/controls",
          "model_name": "FloatProgressModel",
          "model_module_version": "1.5.0",
          "state": {
            "_dom_classes": [],
            "_model_module": "@jupyter-widgets/controls",
            "_model_module_version": "1.5.0",
            "_model_name": "FloatProgressModel",
            "_view_count": null,
            "_view_module": "@jupyter-widgets/controls",
            "_view_module_version": "1.5.0",
            "_view_name": "ProgressView",
            "bar_style": "success",
            "description": "",
            "description_tooltip": null,
            "layout": "IPY_MODEL_1efad2cd9b9040c3ae2e46464fdba2c8",
            "max": 1,
            "min": 0,
            "orientation": "horizontal",
            "style": "IPY_MODEL_d6c647f8c737482cb10cde6c36eaccaa",
            "value": 1
          }
        },
        "f0b94c50e3c54259ba17046e758d5d01": {
          "model_module": "@jupyter-widgets/controls",
          "model_name": "HTMLModel",
          "model_module_version": "1.5.0",
          "state": {
            "_dom_classes": [],
            "_model_module": "@jupyter-widgets/controls",
            "_model_module_version": "1.5.0",
            "_model_name": "HTMLModel",
            "_view_count": null,
            "_view_module": "@jupyter-widgets/controls",
            "_view_module_version": "1.5.0",
            "_view_name": "HTMLView",
            "description": "",
            "description_tooltip": null,
            "layout": "IPY_MODEL_c8b3ed340b1041c3b02ed5e13720e918",
            "placeholder": "​",
            "style": "IPY_MODEL_a5882d1d39664e169eeb28dcbc9f4bac",
            "value": " 1.21k/? [00:00&lt;00:00, 88.2kB/s]"
          }
        },
        "9e8f3d2e88394389b372cd028c9d1abd": {
          "model_module": "@jupyter-widgets/base",
          "model_name": "LayoutModel",
          "model_module_version": "1.2.0",
          "state": {
            "_model_module": "@jupyter-widgets/base",
            "_model_module_version": "1.2.0",
            "_model_name": "LayoutModel",
            "_view_count": null,
            "_view_module": "@jupyter-widgets/base",
            "_view_module_version": "1.2.0",
            "_view_name": "LayoutView",
            "align_content": null,
            "align_items": null,
            "align_self": null,
            "border": null,
            "bottom": null,
            "display": null,
            "flex": null,
            "flex_flow": null,
            "grid_area": null,
            "grid_auto_columns": null,
            "grid_auto_flow": null,
            "grid_auto_rows": null,
            "grid_column": null,
            "grid_gap": null,
            "grid_row": null,
            "grid_template_areas": null,
            "grid_template_columns": null,
            "grid_template_rows": null,
            "height": null,
            "justify_content": null,
            "justify_items": null,
            "left": null,
            "margin": null,
            "max_height": null,
            "max_width": null,
            "min_height": null,
            "min_width": null,
            "object_fit": null,
            "object_position": null,
            "order": null,
            "overflow": null,
            "overflow_x": null,
            "overflow_y": null,
            "padding": null,
            "right": null,
            "top": null,
            "visibility": null,
            "width": null
          }
        },
        "fce02b09eb5f45ebb04abb36356bc9b2": {
          "model_module": "@jupyter-widgets/base",
          "model_name": "LayoutModel",
          "model_module_version": "1.2.0",
          "state": {
            "_model_module": "@jupyter-widgets/base",
            "_model_module_version": "1.2.0",
            "_model_name": "LayoutModel",
            "_view_count": null,
            "_view_module": "@jupyter-widgets/base",
            "_view_module_version": "1.2.0",
            "_view_name": "LayoutView",
            "align_content": null,
            "align_items": null,
            "align_self": null,
            "border": null,
            "bottom": null,
            "display": null,
            "flex": null,
            "flex_flow": null,
            "grid_area": null,
            "grid_auto_columns": null,
            "grid_auto_flow": null,
            "grid_auto_rows": null,
            "grid_column": null,
            "grid_gap": null,
            "grid_row": null,
            "grid_template_areas": null,
            "grid_template_columns": null,
            "grid_template_rows": null,
            "height": null,
            "justify_content": null,
            "justify_items": null,
            "left": null,
            "margin": null,
            "max_height": null,
            "max_width": null,
            "min_height": null,
            "min_width": null,
            "object_fit": null,
            "object_position": null,
            "order": null,
            "overflow": null,
            "overflow_x": null,
            "overflow_y": null,
            "padding": null,
            "right": null,
            "top": null,
            "visibility": null,
            "width": null
          }
        },
        "c4e061a40e3649a0acdd9d4a8b047f49": {
          "model_module": "@jupyter-widgets/controls",
          "model_name": "DescriptionStyleModel",
          "model_module_version": "1.5.0",
          "state": {
            "_model_module": "@jupyter-widgets/controls",
            "_model_module_version": "1.5.0",
            "_model_name": "DescriptionStyleModel",
            "_view_count": null,
            "_view_module": "@jupyter-widgets/base",
            "_view_module_version": "1.2.0",
            "_view_name": "StyleView",
            "description_width": ""
          }
        },
        "1efad2cd9b9040c3ae2e46464fdba2c8": {
          "model_module": "@jupyter-widgets/base",
          "model_name": "LayoutModel",
          "model_module_version": "1.2.0",
          "state": {
            "_model_module": "@jupyter-widgets/base",
            "_model_module_version": "1.2.0",
            "_model_name": "LayoutModel",
            "_view_count": null,
            "_view_module": "@jupyter-widgets/base",
            "_view_module_version": "1.2.0",
            "_view_name": "LayoutView",
            "align_content": null,
            "align_items": null,
            "align_self": null,
            "border": null,
            "bottom": null,
            "display": null,
            "flex": null,
            "flex_flow": null,
            "grid_area": null,
            "grid_auto_columns": null,
            "grid_auto_flow": null,
            "grid_auto_rows": null,
            "grid_column": null,
            "grid_gap": null,
            "grid_row": null,
            "grid_template_areas": null,
            "grid_template_columns": null,
            "grid_template_rows": null,
            "height": null,
            "justify_content": null,
            "justify_items": null,
            "left": null,
            "margin": null,
            "max_height": null,
            "max_width": null,
            "min_height": null,
            "min_width": null,
            "object_fit": null,
            "object_position": null,
            "order": null,
            "overflow": null,
            "overflow_x": null,
            "overflow_y": null,
            "padding": null,
            "right": null,
            "top": null,
            "visibility": null,
            "width": "20px"
          }
        },
        "d6c647f8c737482cb10cde6c36eaccaa": {
          "model_module": "@jupyter-widgets/controls",
          "model_name": "ProgressStyleModel",
          "model_module_version": "1.5.0",
          "state": {
            "_model_module": "@jupyter-widgets/controls",
            "_model_module_version": "1.5.0",
            "_model_name": "ProgressStyleModel",
            "_view_count": null,
            "_view_module": "@jupyter-widgets/base",
            "_view_module_version": "1.2.0",
            "_view_name": "StyleView",
            "bar_color": null,
            "description_width": ""
          }
        },
        "c8b3ed340b1041c3b02ed5e13720e918": {
          "model_module": "@jupyter-widgets/base",
          "model_name": "LayoutModel",
          "model_module_version": "1.2.0",
          "state": {
            "_model_module": "@jupyter-widgets/base",
            "_model_module_version": "1.2.0",
            "_model_name": "LayoutModel",
            "_view_count": null,
            "_view_module": "@jupyter-widgets/base",
            "_view_module_version": "1.2.0",
            "_view_name": "LayoutView",
            "align_content": null,
            "align_items": null,
            "align_self": null,
            "border": null,
            "bottom": null,
            "display": null,
            "flex": null,
            "flex_flow": null,
            "grid_area": null,
            "grid_auto_columns": null,
            "grid_auto_flow": null,
            "grid_auto_rows": null,
            "grid_column": null,
            "grid_gap": null,
            "grid_row": null,
            "grid_template_areas": null,
            "grid_template_columns": null,
            "grid_template_rows": null,
            "height": null,
            "justify_content": null,
            "justify_items": null,
            "left": null,
            "margin": null,
            "max_height": null,
            "max_width": null,
            "min_height": null,
            "min_width": null,
            "object_fit": null,
            "object_position": null,
            "order": null,
            "overflow": null,
            "overflow_x": null,
            "overflow_y": null,
            "padding": null,
            "right": null,
            "top": null,
            "visibility": null,
            "width": null
          }
        },
        "a5882d1d39664e169eeb28dcbc9f4bac": {
          "model_module": "@jupyter-widgets/controls",
          "model_name": "DescriptionStyleModel",
          "model_module_version": "1.5.0",
          "state": {
            "_model_module": "@jupyter-widgets/controls",
            "_model_module_version": "1.5.0",
            "_model_name": "DescriptionStyleModel",
            "_view_count": null,
            "_view_module": "@jupyter-widgets/base",
            "_view_module_version": "1.2.0",
            "_view_name": "StyleView",
            "description_width": ""
          }
        },
        "b5b07f2a6d2a410c8a0170ede833e838": {
          "model_module": "@jupyter-widgets/controls",
          "model_name": "HBoxModel",
          "model_module_version": "1.5.0",
          "state": {
            "_dom_classes": [],
            "_model_module": "@jupyter-widgets/controls",
            "_model_module_version": "1.5.0",
            "_model_name": "HBoxModel",
            "_view_count": null,
            "_view_module": "@jupyter-widgets/controls",
            "_view_module_version": "1.5.0",
            "_view_name": "HBoxView",
            "box_style": "",
            "children": [
              "IPY_MODEL_0bd237a2474a41f79f484477bb6f8a39",
              "IPY_MODEL_42652c4c6fda4a3f8e9d0a276fe59b25",
              "IPY_MODEL_9d13a75d405a4f3db98a3197b70225c1"
            ],
            "layout": "IPY_MODEL_97cafb70c480470ab4e566209cedd243"
          }
        },
        "0bd237a2474a41f79f484477bb6f8a39": {
          "model_module": "@jupyter-widgets/controls",
          "model_name": "HTMLModel",
          "model_module_version": "1.5.0",
          "state": {
            "_dom_classes": [],
            "_model_module": "@jupyter-widgets/controls",
            "_model_module_version": "1.5.0",
            "_model_name": "HTMLModel",
            "_view_count": null,
            "_view_module": "@jupyter-widgets/controls",
            "_view_module_version": "1.5.0",
            "_view_name": "HTMLView",
            "description": "",
            "description_tooltip": null,
            "layout": "IPY_MODEL_cf4203dae6a143e198641ed4266fe53a",
            "placeholder": "​",
            "style": "IPY_MODEL_97ee209c0fef42e0b36ac17c8900116b",
            "value": "model.safetensors: 100%"
          }
        },
        "42652c4c6fda4a3f8e9d0a276fe59b25": {
          "model_module": "@jupyter-widgets/controls",
          "model_name": "FloatProgressModel",
          "model_module_version": "1.5.0",
          "state": {
            "_dom_classes": [],
            "_model_module": "@jupyter-widgets/controls",
            "_model_module_version": "1.5.0",
            "_model_name": "FloatProgressModel",
            "_view_count": null,
            "_view_module": "@jupyter-widgets/controls",
            "_view_module_version": "1.5.0",
            "_view_name": "ProgressView",
            "bar_style": "success",
            "description": "",
            "description_tooltip": null,
            "layout": "IPY_MODEL_c6cb361884e44c43a3aacad0eecf7b6f",
            "max": 891646390,
            "min": 0,
            "orientation": "horizontal",
            "style": "IPY_MODEL_1731468562c942ecb3303dd42f5e70d4",
            "value": 891646390
          }
        },
        "9d13a75d405a4f3db98a3197b70225c1": {
          "model_module": "@jupyter-widgets/controls",
          "model_name": "HTMLModel",
          "model_module_version": "1.5.0",
          "state": {
            "_dom_classes": [],
            "_model_module": "@jupyter-widgets/controls",
            "_model_module_version": "1.5.0",
            "_model_name": "HTMLModel",
            "_view_count": null,
            "_view_module": "@jupyter-widgets/controls",
            "_view_module_version": "1.5.0",
            "_view_name": "HTMLView",
            "description": "",
            "description_tooltip": null,
            "layout": "IPY_MODEL_4795d3101246469f811924ead8b53d55",
            "placeholder": "​",
            "style": "IPY_MODEL_5ebf5af329d8495c869ba47b056ec44c",
            "value": " 892M/892M [00:39&lt;00:00, 25.9MB/s]"
          }
        },
        "97cafb70c480470ab4e566209cedd243": {
          "model_module": "@jupyter-widgets/base",
          "model_name": "LayoutModel",
          "model_module_version": "1.2.0",
          "state": {
            "_model_module": "@jupyter-widgets/base",
            "_model_module_version": "1.2.0",
            "_model_name": "LayoutModel",
            "_view_count": null,
            "_view_module": "@jupyter-widgets/base",
            "_view_module_version": "1.2.0",
            "_view_name": "LayoutView",
            "align_content": null,
            "align_items": null,
            "align_self": null,
            "border": null,
            "bottom": null,
            "display": null,
            "flex": null,
            "flex_flow": null,
            "grid_area": null,
            "grid_auto_columns": null,
            "grid_auto_flow": null,
            "grid_auto_rows": null,
            "grid_column": null,
            "grid_gap": null,
            "grid_row": null,
            "grid_template_areas": null,
            "grid_template_columns": null,
            "grid_template_rows": null,
            "height": null,
            "justify_content": null,
            "justify_items": null,
            "left": null,
            "margin": null,
            "max_height": null,
            "max_width": null,
            "min_height": null,
            "min_width": null,
            "object_fit": null,
            "object_position": null,
            "order": null,
            "overflow": null,
            "overflow_x": null,
            "overflow_y": null,
            "padding": null,
            "right": null,
            "top": null,
            "visibility": null,
            "width": null
          }
        },
        "cf4203dae6a143e198641ed4266fe53a": {
          "model_module": "@jupyter-widgets/base",
          "model_name": "LayoutModel",
          "model_module_version": "1.2.0",
          "state": {
            "_model_module": "@jupyter-widgets/base",
            "_model_module_version": "1.2.0",
            "_model_name": "LayoutModel",
            "_view_count": null,
            "_view_module": "@jupyter-widgets/base",
            "_view_module_version": "1.2.0",
            "_view_name": "LayoutView",
            "align_content": null,
            "align_items": null,
            "align_self": null,
            "border": null,
            "bottom": null,
            "display": null,
            "flex": null,
            "flex_flow": null,
            "grid_area": null,
            "grid_auto_columns": null,
            "grid_auto_flow": null,
            "grid_auto_rows": null,
            "grid_column": null,
            "grid_gap": null,
            "grid_row": null,
            "grid_template_areas": null,
            "grid_template_columns": null,
            "grid_template_rows": null,
            "height": null,
            "justify_content": null,
            "justify_items": null,
            "left": null,
            "margin": null,
            "max_height": null,
            "max_width": null,
            "min_height": null,
            "min_width": null,
            "object_fit": null,
            "object_position": null,
            "order": null,
            "overflow": null,
            "overflow_x": null,
            "overflow_y": null,
            "padding": null,
            "right": null,
            "top": null,
            "visibility": null,
            "width": null
          }
        },
        "97ee209c0fef42e0b36ac17c8900116b": {
          "model_module": "@jupyter-widgets/controls",
          "model_name": "DescriptionStyleModel",
          "model_module_version": "1.5.0",
          "state": {
            "_model_module": "@jupyter-widgets/controls",
            "_model_module_version": "1.5.0",
            "_model_name": "DescriptionStyleModel",
            "_view_count": null,
            "_view_module": "@jupyter-widgets/base",
            "_view_module_version": "1.2.0",
            "_view_name": "StyleView",
            "description_width": ""
          }
        },
        "c6cb361884e44c43a3aacad0eecf7b6f": {
          "model_module": "@jupyter-widgets/base",
          "model_name": "LayoutModel",
          "model_module_version": "1.2.0",
          "state": {
            "_model_module": "@jupyter-widgets/base",
            "_model_module_version": "1.2.0",
            "_model_name": "LayoutModel",
            "_view_count": null,
            "_view_module": "@jupyter-widgets/base",
            "_view_module_version": "1.2.0",
            "_view_name": "LayoutView",
            "align_content": null,
            "align_items": null,
            "align_self": null,
            "border": null,
            "bottom": null,
            "display": null,
            "flex": null,
            "flex_flow": null,
            "grid_area": null,
            "grid_auto_columns": null,
            "grid_auto_flow": null,
            "grid_auto_rows": null,
            "grid_column": null,
            "grid_gap": null,
            "grid_row": null,
            "grid_template_areas": null,
            "grid_template_columns": null,
            "grid_template_rows": null,
            "height": null,
            "justify_content": null,
            "justify_items": null,
            "left": null,
            "margin": null,
            "max_height": null,
            "max_width": null,
            "min_height": null,
            "min_width": null,
            "object_fit": null,
            "object_position": null,
            "order": null,
            "overflow": null,
            "overflow_x": null,
            "overflow_y": null,
            "padding": null,
            "right": null,
            "top": null,
            "visibility": null,
            "width": null
          }
        },
        "1731468562c942ecb3303dd42f5e70d4": {
          "model_module": "@jupyter-widgets/controls",
          "model_name": "ProgressStyleModel",
          "model_module_version": "1.5.0",
          "state": {
            "_model_module": "@jupyter-widgets/controls",
            "_model_module_version": "1.5.0",
            "_model_name": "ProgressStyleModel",
            "_view_count": null,
            "_view_module": "@jupyter-widgets/base",
            "_view_module_version": "1.2.0",
            "_view_name": "StyleView",
            "bar_color": null,
            "description_width": ""
          }
        },
        "4795d3101246469f811924ead8b53d55": {
          "model_module": "@jupyter-widgets/base",
          "model_name": "LayoutModel",
          "model_module_version": "1.2.0",
          "state": {
            "_model_module": "@jupyter-widgets/base",
            "_model_module_version": "1.2.0",
            "_model_name": "LayoutModel",
            "_view_count": null,
            "_view_module": "@jupyter-widgets/base",
            "_view_module_version": "1.2.0",
            "_view_name": "LayoutView",
            "align_content": null,
            "align_items": null,
            "align_self": null,
            "border": null,
            "bottom": null,
            "display": null,
            "flex": null,
            "flex_flow": null,
            "grid_area": null,
            "grid_auto_columns": null,
            "grid_auto_flow": null,
            "grid_auto_rows": null,
            "grid_column": null,
            "grid_gap": null,
            "grid_row": null,
            "grid_template_areas": null,
            "grid_template_columns": null,
            "grid_template_rows": null,
            "height": null,
            "justify_content": null,
            "justify_items": null,
            "left": null,
            "margin": null,
            "max_height": null,
            "max_width": null,
            "min_height": null,
            "min_width": null,
            "object_fit": null,
            "object_position": null,
            "order": null,
            "overflow": null,
            "overflow_x": null,
            "overflow_y": null,
            "padding": null,
            "right": null,
            "top": null,
            "visibility": null,
            "width": null
          }
        },
        "5ebf5af329d8495c869ba47b056ec44c": {
          "model_module": "@jupyter-widgets/controls",
          "model_name": "DescriptionStyleModel",
          "model_module_version": "1.5.0",
          "state": {
            "_model_module": "@jupyter-widgets/controls",
            "_model_module_version": "1.5.0",
            "_model_name": "DescriptionStyleModel",
            "_view_count": null,
            "_view_module": "@jupyter-widgets/base",
            "_view_module_version": "1.2.0",
            "_view_name": "StyleView",
            "description_width": ""
          }
        },
        "2c400072892f411ca522563f8292161a": {
          "model_module": "@jupyter-widgets/controls",
          "model_name": "HBoxModel",
          "model_module_version": "1.5.0",
          "state": {
            "_dom_classes": [],
            "_model_module": "@jupyter-widgets/controls",
            "_model_module_version": "1.5.0",
            "_model_name": "HBoxModel",
            "_view_count": null,
            "_view_module": "@jupyter-widgets/controls",
            "_view_module_version": "1.5.0",
            "_view_name": "HBoxView",
            "box_style": "",
            "children": [
              "IPY_MODEL_4c14dd1f6ead4b029985676172028ce7",
              "IPY_MODEL_911a7397050349228949da38fef9a15c",
              "IPY_MODEL_8166dbe8aa3e4c29bf69c6de0a7ef692"
            ],
            "layout": "IPY_MODEL_f8190c146ea6435abf440f92f388f9fa"
          }
        },
        "4c14dd1f6ead4b029985676172028ce7": {
          "model_module": "@jupyter-widgets/controls",
          "model_name": "HTMLModel",
          "model_module_version": "1.5.0",
          "state": {
            "_dom_classes": [],
            "_model_module": "@jupyter-widgets/controls",
            "_model_module_version": "1.5.0",
            "_model_name": "HTMLModel",
            "_view_count": null,
            "_view_module": "@jupyter-widgets/controls",
            "_view_module_version": "1.5.0",
            "_view_name": "HTMLView",
            "description": "",
            "description_tooltip": null,
            "layout": "IPY_MODEL_ec5a3ec8c68442a2a8a31c143cb68210",
            "placeholder": "​",
            "style": "IPY_MODEL_c1280d6581f846b29258f91694700e6e",
            "value": "tokenizer_config.json: 100%"
          }
        },
        "911a7397050349228949da38fef9a15c": {
          "model_module": "@jupyter-widgets/controls",
          "model_name": "FloatProgressModel",
          "model_module_version": "1.5.0",
          "state": {
            "_dom_classes": [],
            "_model_module": "@jupyter-widgets/controls",
            "_model_module_version": "1.5.0",
            "_model_name": "FloatProgressModel",
            "_view_count": null,
            "_view_module": "@jupyter-widgets/controls",
            "_view_module_version": "1.5.0",
            "_view_name": "ProgressView",
            "bar_style": "success",
            "description": "",
            "description_tooltip": null,
            "layout": "IPY_MODEL_9e05019ef3344db4b41d57e9f90d5601",
            "max": 25,
            "min": 0,
            "orientation": "horizontal",
            "style": "IPY_MODEL_78116cff1da946e4b96836bc5e995abf",
            "value": 25
          }
        },
        "8166dbe8aa3e4c29bf69c6de0a7ef692": {
          "model_module": "@jupyter-widgets/controls",
          "model_name": "HTMLModel",
          "model_module_version": "1.5.0",
          "state": {
            "_dom_classes": [],
            "_model_module": "@jupyter-widgets/controls",
            "_model_module_version": "1.5.0",
            "_model_name": "HTMLModel",
            "_view_count": null,
            "_view_module": "@jupyter-widgets/controls",
            "_view_module_version": "1.5.0",
            "_view_name": "HTMLView",
            "description": "",
            "description_tooltip": null,
            "layout": "IPY_MODEL_7a995012606342269fe9cad88f1073f6",
            "placeholder": "​",
            "style": "IPY_MODEL_c7fd176339b24ad3879a1ebcef3d4199",
            "value": " 25.0/25.0 [00:00&lt;00:00, 1.85kB/s]"
          }
        },
        "f8190c146ea6435abf440f92f388f9fa": {
          "model_module": "@jupyter-widgets/base",
          "model_name": "LayoutModel",
          "model_module_version": "1.2.0",
          "state": {
            "_model_module": "@jupyter-widgets/base",
            "_model_module_version": "1.2.0",
            "_model_name": "LayoutModel",
            "_view_count": null,
            "_view_module": "@jupyter-widgets/base",
            "_view_module_version": "1.2.0",
            "_view_name": "LayoutView",
            "align_content": null,
            "align_items": null,
            "align_self": null,
            "border": null,
            "bottom": null,
            "display": null,
            "flex": null,
            "flex_flow": null,
            "grid_area": null,
            "grid_auto_columns": null,
            "grid_auto_flow": null,
            "grid_auto_rows": null,
            "grid_column": null,
            "grid_gap": null,
            "grid_row": null,
            "grid_template_areas": null,
            "grid_template_columns": null,
            "grid_template_rows": null,
            "height": null,
            "justify_content": null,
            "justify_items": null,
            "left": null,
            "margin": null,
            "max_height": null,
            "max_width": null,
            "min_height": null,
            "min_width": null,
            "object_fit": null,
            "object_position": null,
            "order": null,
            "overflow": null,
            "overflow_x": null,
            "overflow_y": null,
            "padding": null,
            "right": null,
            "top": null,
            "visibility": null,
            "width": null
          }
        },
        "ec5a3ec8c68442a2a8a31c143cb68210": {
          "model_module": "@jupyter-widgets/base",
          "model_name": "LayoutModel",
          "model_module_version": "1.2.0",
          "state": {
            "_model_module": "@jupyter-widgets/base",
            "_model_module_version": "1.2.0",
            "_model_name": "LayoutModel",
            "_view_count": null,
            "_view_module": "@jupyter-widgets/base",
            "_view_module_version": "1.2.0",
            "_view_name": "LayoutView",
            "align_content": null,
            "align_items": null,
            "align_self": null,
            "border": null,
            "bottom": null,
            "display": null,
            "flex": null,
            "flex_flow": null,
            "grid_area": null,
            "grid_auto_columns": null,
            "grid_auto_flow": null,
            "grid_auto_rows": null,
            "grid_column": null,
            "grid_gap": null,
            "grid_row": null,
            "grid_template_areas": null,
            "grid_template_columns": null,
            "grid_template_rows": null,
            "height": null,
            "justify_content": null,
            "justify_items": null,
            "left": null,
            "margin": null,
            "max_height": null,
            "max_width": null,
            "min_height": null,
            "min_width": null,
            "object_fit": null,
            "object_position": null,
            "order": null,
            "overflow": null,
            "overflow_x": null,
            "overflow_y": null,
            "padding": null,
            "right": null,
            "top": null,
            "visibility": null,
            "width": null
          }
        },
        "c1280d6581f846b29258f91694700e6e": {
          "model_module": "@jupyter-widgets/controls",
          "model_name": "DescriptionStyleModel",
          "model_module_version": "1.5.0",
          "state": {
            "_model_module": "@jupyter-widgets/controls",
            "_model_module_version": "1.5.0",
            "_model_name": "DescriptionStyleModel",
            "_view_count": null,
            "_view_module": "@jupyter-widgets/base",
            "_view_module_version": "1.2.0",
            "_view_name": "StyleView",
            "description_width": ""
          }
        },
        "9e05019ef3344db4b41d57e9f90d5601": {
          "model_module": "@jupyter-widgets/base",
          "model_name": "LayoutModel",
          "model_module_version": "1.2.0",
          "state": {
            "_model_module": "@jupyter-widgets/base",
            "_model_module_version": "1.2.0",
            "_model_name": "LayoutModel",
            "_view_count": null,
            "_view_module": "@jupyter-widgets/base",
            "_view_module_version": "1.2.0",
            "_view_name": "LayoutView",
            "align_content": null,
            "align_items": null,
            "align_self": null,
            "border": null,
            "bottom": null,
            "display": null,
            "flex": null,
            "flex_flow": null,
            "grid_area": null,
            "grid_auto_columns": null,
            "grid_auto_flow": null,
            "grid_auto_rows": null,
            "grid_column": null,
            "grid_gap": null,
            "grid_row": null,
            "grid_template_areas": null,
            "grid_template_columns": null,
            "grid_template_rows": null,
            "height": null,
            "justify_content": null,
            "justify_items": null,
            "left": null,
            "margin": null,
            "max_height": null,
            "max_width": null,
            "min_height": null,
            "min_width": null,
            "object_fit": null,
            "object_position": null,
            "order": null,
            "overflow": null,
            "overflow_x": null,
            "overflow_y": null,
            "padding": null,
            "right": null,
            "top": null,
            "visibility": null,
            "width": null
          }
        },
        "78116cff1da946e4b96836bc5e995abf": {
          "model_module": "@jupyter-widgets/controls",
          "model_name": "ProgressStyleModel",
          "model_module_version": "1.5.0",
          "state": {
            "_model_module": "@jupyter-widgets/controls",
            "_model_module_version": "1.5.0",
            "_model_name": "ProgressStyleModel",
            "_view_count": null,
            "_view_module": "@jupyter-widgets/base",
            "_view_module_version": "1.2.0",
            "_view_name": "StyleView",
            "bar_color": null,
            "description_width": ""
          }
        },
        "7a995012606342269fe9cad88f1073f6": {
          "model_module": "@jupyter-widgets/base",
          "model_name": "LayoutModel",
          "model_module_version": "1.2.0",
          "state": {
            "_model_module": "@jupyter-widgets/base",
            "_model_module_version": "1.2.0",
            "_model_name": "LayoutModel",
            "_view_count": null,
            "_view_module": "@jupyter-widgets/base",
            "_view_module_version": "1.2.0",
            "_view_name": "LayoutView",
            "align_content": null,
            "align_items": null,
            "align_self": null,
            "border": null,
            "bottom": null,
            "display": null,
            "flex": null,
            "flex_flow": null,
            "grid_area": null,
            "grid_auto_columns": null,
            "grid_auto_flow": null,
            "grid_auto_rows": null,
            "grid_column": null,
            "grid_gap": null,
            "grid_row": null,
            "grid_template_areas": null,
            "grid_template_columns": null,
            "grid_template_rows": null,
            "height": null,
            "justify_content": null,
            "justify_items": null,
            "left": null,
            "margin": null,
            "max_height": null,
            "max_width": null,
            "min_height": null,
            "min_width": null,
            "object_fit": null,
            "object_position": null,
            "order": null,
            "overflow": null,
            "overflow_x": null,
            "overflow_y": null,
            "padding": null,
            "right": null,
            "top": null,
            "visibility": null,
            "width": null
          }
        },
        "c7fd176339b24ad3879a1ebcef3d4199": {
          "model_module": "@jupyter-widgets/controls",
          "model_name": "DescriptionStyleModel",
          "model_module_version": "1.5.0",
          "state": {
            "_model_module": "@jupyter-widgets/controls",
            "_model_module_version": "1.5.0",
            "_model_name": "DescriptionStyleModel",
            "_view_count": null,
            "_view_module": "@jupyter-widgets/base",
            "_view_module_version": "1.2.0",
            "_view_name": "StyleView",
            "description_width": ""
          }
        },
        "9056cec8058c43569953c18f027f06de": {
          "model_module": "@jupyter-widgets/controls",
          "model_name": "HBoxModel",
          "model_module_version": "1.5.0",
          "state": {
            "_dom_classes": [],
            "_model_module": "@jupyter-widgets/controls",
            "_model_module_version": "1.5.0",
            "_model_name": "HBoxModel",
            "_view_count": null,
            "_view_module": "@jupyter-widgets/controls",
            "_view_module_version": "1.5.0",
            "_view_name": "HBoxView",
            "box_style": "",
            "children": [
              "IPY_MODEL_09e4a2fcd8f84e518852c6c172a08b4e",
              "IPY_MODEL_80e699b430544acd894774427bcc90e7",
              "IPY_MODEL_4c6db7b225c8463db96e3c33c27cc6be"
            ],
            "layout": "IPY_MODEL_a7cac4d9ac7a47ad80e85aaf0ba47772"
          }
        },
        "09e4a2fcd8f84e518852c6c172a08b4e": {
          "model_module": "@jupyter-widgets/controls",
          "model_name": "HTMLModel",
          "model_module_version": "1.5.0",
          "state": {
            "_dom_classes": [],
            "_model_module": "@jupyter-widgets/controls",
            "_model_module_version": "1.5.0",
            "_model_name": "HTMLModel",
            "_view_count": null,
            "_view_module": "@jupyter-widgets/controls",
            "_view_module_version": "1.5.0",
            "_view_name": "HTMLView",
            "description": "",
            "description_tooltip": null,
            "layout": "IPY_MODEL_4f9e6efbdff74929aa8db4318ad2fd28",
            "placeholder": "​",
            "style": "IPY_MODEL_e769eed685244e808c157e807fc102b0",
            "value": "spiece.model: 100%"
          }
        },
        "80e699b430544acd894774427bcc90e7": {
          "model_module": "@jupyter-widgets/controls",
          "model_name": "FloatProgressModel",
          "model_module_version": "1.5.0",
          "state": {
            "_dom_classes": [],
            "_model_module": "@jupyter-widgets/controls",
            "_model_module_version": "1.5.0",
            "_model_name": "FloatProgressModel",
            "_view_count": null,
            "_view_module": "@jupyter-widgets/controls",
            "_view_module_version": "1.5.0",
            "_view_name": "ProgressView",
            "bar_style": "success",
            "description": "",
            "description_tooltip": null,
            "layout": "IPY_MODEL_1df7cd43800f4a93a9e625fbc2f1201d",
            "max": 791656,
            "min": 0,
            "orientation": "horizontal",
            "style": "IPY_MODEL_dfe69f114c1043058ffb43a7b6d7a9ef",
            "value": 791656
          }
        },
        "4c6db7b225c8463db96e3c33c27cc6be": {
          "model_module": "@jupyter-widgets/controls",
          "model_name": "HTMLModel",
          "model_module_version": "1.5.0",
          "state": {
            "_dom_classes": [],
            "_model_module": "@jupyter-widgets/controls",
            "_model_module_version": "1.5.0",
            "_model_name": "HTMLModel",
            "_view_count": null,
            "_view_module": "@jupyter-widgets/controls",
            "_view_module_version": "1.5.0",
            "_view_name": "HTMLView",
            "description": "",
            "description_tooltip": null,
            "layout": "IPY_MODEL_9c6bf7bde3c24f728a0aa2d35a262c5b",
            "placeholder": "​",
            "style": "IPY_MODEL_729cea36358b48c8ab5a78d115cd7c0a",
            "value": " 792k/792k [00:00&lt;00:00, 17.5MB/s]"
          }
        },
        "a7cac4d9ac7a47ad80e85aaf0ba47772": {
          "model_module": "@jupyter-widgets/base",
          "model_name": "LayoutModel",
          "model_module_version": "1.2.0",
          "state": {
            "_model_module": "@jupyter-widgets/base",
            "_model_module_version": "1.2.0",
            "_model_name": "LayoutModel",
            "_view_count": null,
            "_view_module": "@jupyter-widgets/base",
            "_view_module_version": "1.2.0",
            "_view_name": "LayoutView",
            "align_content": null,
            "align_items": null,
            "align_self": null,
            "border": null,
            "bottom": null,
            "display": null,
            "flex": null,
            "flex_flow": null,
            "grid_area": null,
            "grid_auto_columns": null,
            "grid_auto_flow": null,
            "grid_auto_rows": null,
            "grid_column": null,
            "grid_gap": null,
            "grid_row": null,
            "grid_template_areas": null,
            "grid_template_columns": null,
            "grid_template_rows": null,
            "height": null,
            "justify_content": null,
            "justify_items": null,
            "left": null,
            "margin": null,
            "max_height": null,
            "max_width": null,
            "min_height": null,
            "min_width": null,
            "object_fit": null,
            "object_position": null,
            "order": null,
            "overflow": null,
            "overflow_x": null,
            "overflow_y": null,
            "padding": null,
            "right": null,
            "top": null,
            "visibility": null,
            "width": null
          }
        },
        "4f9e6efbdff74929aa8db4318ad2fd28": {
          "model_module": "@jupyter-widgets/base",
          "model_name": "LayoutModel",
          "model_module_version": "1.2.0",
          "state": {
            "_model_module": "@jupyter-widgets/base",
            "_model_module_version": "1.2.0",
            "_model_name": "LayoutModel",
            "_view_count": null,
            "_view_module": "@jupyter-widgets/base",
            "_view_module_version": "1.2.0",
            "_view_name": "LayoutView",
            "align_content": null,
            "align_items": null,
            "align_self": null,
            "border": null,
            "bottom": null,
            "display": null,
            "flex": null,
            "flex_flow": null,
            "grid_area": null,
            "grid_auto_columns": null,
            "grid_auto_flow": null,
            "grid_auto_rows": null,
            "grid_column": null,
            "grid_gap": null,
            "grid_row": null,
            "grid_template_areas": null,
            "grid_template_columns": null,
            "grid_template_rows": null,
            "height": null,
            "justify_content": null,
            "justify_items": null,
            "left": null,
            "margin": null,
            "max_height": null,
            "max_width": null,
            "min_height": null,
            "min_width": null,
            "object_fit": null,
            "object_position": null,
            "order": null,
            "overflow": null,
            "overflow_x": null,
            "overflow_y": null,
            "padding": null,
            "right": null,
            "top": null,
            "visibility": null,
            "width": null
          }
        },
        "e769eed685244e808c157e807fc102b0": {
          "model_module": "@jupyter-widgets/controls",
          "model_name": "DescriptionStyleModel",
          "model_module_version": "1.5.0",
          "state": {
            "_model_module": "@jupyter-widgets/controls",
            "_model_module_version": "1.5.0",
            "_model_name": "DescriptionStyleModel",
            "_view_count": null,
            "_view_module": "@jupyter-widgets/base",
            "_view_module_version": "1.2.0",
            "_view_name": "StyleView",
            "description_width": ""
          }
        },
        "1df7cd43800f4a93a9e625fbc2f1201d": {
          "model_module": "@jupyter-widgets/base",
          "model_name": "LayoutModel",
          "model_module_version": "1.2.0",
          "state": {
            "_model_module": "@jupyter-widgets/base",
            "_model_module_version": "1.2.0",
            "_model_name": "LayoutModel",
            "_view_count": null,
            "_view_module": "@jupyter-widgets/base",
            "_view_module_version": "1.2.0",
            "_view_name": "LayoutView",
            "align_content": null,
            "align_items": null,
            "align_self": null,
            "border": null,
            "bottom": null,
            "display": null,
            "flex": null,
            "flex_flow": null,
            "grid_area": null,
            "grid_auto_columns": null,
            "grid_auto_flow": null,
            "grid_auto_rows": null,
            "grid_column": null,
            "grid_gap": null,
            "grid_row": null,
            "grid_template_areas": null,
            "grid_template_columns": null,
            "grid_template_rows": null,
            "height": null,
            "justify_content": null,
            "justify_items": null,
            "left": null,
            "margin": null,
            "max_height": null,
            "max_width": null,
            "min_height": null,
            "min_width": null,
            "object_fit": null,
            "object_position": null,
            "order": null,
            "overflow": null,
            "overflow_x": null,
            "overflow_y": null,
            "padding": null,
            "right": null,
            "top": null,
            "visibility": null,
            "width": null
          }
        },
        "dfe69f114c1043058ffb43a7b6d7a9ef": {
          "model_module": "@jupyter-widgets/controls",
          "model_name": "ProgressStyleModel",
          "model_module_version": "1.5.0",
          "state": {
            "_model_module": "@jupyter-widgets/controls",
            "_model_module_version": "1.5.0",
            "_model_name": "ProgressStyleModel",
            "_view_count": null,
            "_view_module": "@jupyter-widgets/base",
            "_view_module_version": "1.2.0",
            "_view_name": "StyleView",
            "bar_color": null,
            "description_width": ""
          }
        },
        "9c6bf7bde3c24f728a0aa2d35a262c5b": {
          "model_module": "@jupyter-widgets/base",
          "model_name": "LayoutModel",
          "model_module_version": "1.2.0",
          "state": {
            "_model_module": "@jupyter-widgets/base",
            "_model_module_version": "1.2.0",
            "_model_name": "LayoutModel",
            "_view_count": null,
            "_view_module": "@jupyter-widgets/base",
            "_view_module_version": "1.2.0",
            "_view_name": "LayoutView",
            "align_content": null,
            "align_items": null,
            "align_self": null,
            "border": null,
            "bottom": null,
            "display": null,
            "flex": null,
            "flex_flow": null,
            "grid_area": null,
            "grid_auto_columns": null,
            "grid_auto_flow": null,
            "grid_auto_rows": null,
            "grid_column": null,
            "grid_gap": null,
            "grid_row": null,
            "grid_template_areas": null,
            "grid_template_columns": null,
            "grid_template_rows": null,
            "height": null,
            "justify_content": null,
            "justify_items": null,
            "left": null,
            "margin": null,
            "max_height": null,
            "max_width": null,
            "min_height": null,
            "min_width": null,
            "object_fit": null,
            "object_position": null,
            "order": null,
            "overflow": null,
            "overflow_x": null,
            "overflow_y": null,
            "padding": null,
            "right": null,
            "top": null,
            "visibility": null,
            "width": null
          }
        },
        "729cea36358b48c8ab5a78d115cd7c0a": {
          "model_module": "@jupyter-widgets/controls",
          "model_name": "DescriptionStyleModel",
          "model_module_version": "1.5.0",
          "state": {
            "_model_module": "@jupyter-widgets/controls",
            "_model_module_version": "1.5.0",
            "_model_name": "DescriptionStyleModel",
            "_view_count": null,
            "_view_module": "@jupyter-widgets/base",
            "_view_module_version": "1.2.0",
            "_view_name": "StyleView",
            "description_width": ""
          }
        },
        "e31254e933af41c09e937004c1cc7f38": {
          "model_module": "@jupyter-widgets/controls",
          "model_name": "HBoxModel",
          "model_module_version": "1.5.0",
          "state": {
            "_dom_classes": [],
            "_model_module": "@jupyter-widgets/controls",
            "_model_module_version": "1.5.0",
            "_model_name": "HBoxModel",
            "_view_count": null,
            "_view_module": "@jupyter-widgets/controls",
            "_view_module_version": "1.5.0",
            "_view_name": "HBoxView",
            "box_style": "",
            "children": [
              "IPY_MODEL_81f6308052594121a7e2ed4749ff7114",
              "IPY_MODEL_9084f3596cca41e5b936dfba8bd7f60f",
              "IPY_MODEL_263d80faf6854f9483f1c09fc5f1d69c"
            ],
            "layout": "IPY_MODEL_8ad6a61f4ab846e4b38bed6a37358df1"
          }
        },
        "81f6308052594121a7e2ed4749ff7114": {
          "model_module": "@jupyter-widgets/controls",
          "model_name": "HTMLModel",
          "model_module_version": "1.5.0",
          "state": {
            "_dom_classes": [],
            "_model_module": "@jupyter-widgets/controls",
            "_model_module_version": "1.5.0",
            "_model_name": "HTMLModel",
            "_view_count": null,
            "_view_module": "@jupyter-widgets/controls",
            "_view_module_version": "1.5.0",
            "_view_name": "HTMLView",
            "description": "",
            "description_tooltip": null,
            "layout": "IPY_MODEL_81fba39c09434bb194db94da26bbf1c6",
            "placeholder": "​",
            "style": "IPY_MODEL_7a8ebaec87754745b37efe2c76b5a77b",
            "value": "special_tokens_map.json: "
          }
        },
        "9084f3596cca41e5b936dfba8bd7f60f": {
          "model_module": "@jupyter-widgets/controls",
          "model_name": "FloatProgressModel",
          "model_module_version": "1.5.0",
          "state": {
            "_dom_classes": [],
            "_model_module": "@jupyter-widgets/controls",
            "_model_module_version": "1.5.0",
            "_model_name": "FloatProgressModel",
            "_view_count": null,
            "_view_module": "@jupyter-widgets/controls",
            "_view_module_version": "1.5.0",
            "_view_name": "ProgressView",
            "bar_style": "success",
            "description": "",
            "description_tooltip": null,
            "layout": "IPY_MODEL_6041209b700b47c4a21e75d27f4379d7",
            "max": 1,
            "min": 0,
            "orientation": "horizontal",
            "style": "IPY_MODEL_77f267e667f949e6afc4885bb81a9a3c",
            "value": 1
          }
        },
        "263d80faf6854f9483f1c09fc5f1d69c": {
          "model_module": "@jupyter-widgets/controls",
          "model_name": "HTMLModel",
          "model_module_version": "1.5.0",
          "state": {
            "_dom_classes": [],
            "_model_module": "@jupyter-widgets/controls",
            "_model_module_version": "1.5.0",
            "_model_name": "HTMLModel",
            "_view_count": null,
            "_view_module": "@jupyter-widgets/controls",
            "_view_module_version": "1.5.0",
            "_view_name": "HTMLView",
            "description": "",
            "description_tooltip": null,
            "layout": "IPY_MODEL_caca6a18ae6b478cace3afc50929bff1",
            "placeholder": "​",
            "style": "IPY_MODEL_fe63a94f798c48d69ba8ddc0270d0ec2",
            "value": " 1.79k/? [00:00&lt;00:00, 81.5kB/s]"
          }
        },
        "8ad6a61f4ab846e4b38bed6a37358df1": {
          "model_module": "@jupyter-widgets/base",
          "model_name": "LayoutModel",
          "model_module_version": "1.2.0",
          "state": {
            "_model_module": "@jupyter-widgets/base",
            "_model_module_version": "1.2.0",
            "_model_name": "LayoutModel",
            "_view_count": null,
            "_view_module": "@jupyter-widgets/base",
            "_view_module_version": "1.2.0",
            "_view_name": "LayoutView",
            "align_content": null,
            "align_items": null,
            "align_self": null,
            "border": null,
            "bottom": null,
            "display": null,
            "flex": null,
            "flex_flow": null,
            "grid_area": null,
            "grid_auto_columns": null,
            "grid_auto_flow": null,
            "grid_auto_rows": null,
            "grid_column": null,
            "grid_gap": null,
            "grid_row": null,
            "grid_template_areas": null,
            "grid_template_columns": null,
            "grid_template_rows": null,
            "height": null,
            "justify_content": null,
            "justify_items": null,
            "left": null,
            "margin": null,
            "max_height": null,
            "max_width": null,
            "min_height": null,
            "min_width": null,
            "object_fit": null,
            "object_position": null,
            "order": null,
            "overflow": null,
            "overflow_x": null,
            "overflow_y": null,
            "padding": null,
            "right": null,
            "top": null,
            "visibility": null,
            "width": null
          }
        },
        "81fba39c09434bb194db94da26bbf1c6": {
          "model_module": "@jupyter-widgets/base",
          "model_name": "LayoutModel",
          "model_module_version": "1.2.0",
          "state": {
            "_model_module": "@jupyter-widgets/base",
            "_model_module_version": "1.2.0",
            "_model_name": "LayoutModel",
            "_view_count": null,
            "_view_module": "@jupyter-widgets/base",
            "_view_module_version": "1.2.0",
            "_view_name": "LayoutView",
            "align_content": null,
            "align_items": null,
            "align_self": null,
            "border": null,
            "bottom": null,
            "display": null,
            "flex": null,
            "flex_flow": null,
            "grid_area": null,
            "grid_auto_columns": null,
            "grid_auto_flow": null,
            "grid_auto_rows": null,
            "grid_column": null,
            "grid_gap": null,
            "grid_row": null,
            "grid_template_areas": null,
            "grid_template_columns": null,
            "grid_template_rows": null,
            "height": null,
            "justify_content": null,
            "justify_items": null,
            "left": null,
            "margin": null,
            "max_height": null,
            "max_width": null,
            "min_height": null,
            "min_width": null,
            "object_fit": null,
            "object_position": null,
            "order": null,
            "overflow": null,
            "overflow_x": null,
            "overflow_y": null,
            "padding": null,
            "right": null,
            "top": null,
            "visibility": null,
            "width": null
          }
        },
        "7a8ebaec87754745b37efe2c76b5a77b": {
          "model_module": "@jupyter-widgets/controls",
          "model_name": "DescriptionStyleModel",
          "model_module_version": "1.5.0",
          "state": {
            "_model_module": "@jupyter-widgets/controls",
            "_model_module_version": "1.5.0",
            "_model_name": "DescriptionStyleModel",
            "_view_count": null,
            "_view_module": "@jupyter-widgets/base",
            "_view_module_version": "1.2.0",
            "_view_name": "StyleView",
            "description_width": ""
          }
        },
        "6041209b700b47c4a21e75d27f4379d7": {
          "model_module": "@jupyter-widgets/base",
          "model_name": "LayoutModel",
          "model_module_version": "1.2.0",
          "state": {
            "_model_module": "@jupyter-widgets/base",
            "_model_module_version": "1.2.0",
            "_model_name": "LayoutModel",
            "_view_count": null,
            "_view_module": "@jupyter-widgets/base",
            "_view_module_version": "1.2.0",
            "_view_name": "LayoutView",
            "align_content": null,
            "align_items": null,
            "align_self": null,
            "border": null,
            "bottom": null,
            "display": null,
            "flex": null,
            "flex_flow": null,
            "grid_area": null,
            "grid_auto_columns": null,
            "grid_auto_flow": null,
            "grid_auto_rows": null,
            "grid_column": null,
            "grid_gap": null,
            "grid_row": null,
            "grid_template_areas": null,
            "grid_template_columns": null,
            "grid_template_rows": null,
            "height": null,
            "justify_content": null,
            "justify_items": null,
            "left": null,
            "margin": null,
            "max_height": null,
            "max_width": null,
            "min_height": null,
            "min_width": null,
            "object_fit": null,
            "object_position": null,
            "order": null,
            "overflow": null,
            "overflow_x": null,
            "overflow_y": null,
            "padding": null,
            "right": null,
            "top": null,
            "visibility": null,
            "width": "20px"
          }
        },
        "77f267e667f949e6afc4885bb81a9a3c": {
          "model_module": "@jupyter-widgets/controls",
          "model_name": "ProgressStyleModel",
          "model_module_version": "1.5.0",
          "state": {
            "_model_module": "@jupyter-widgets/controls",
            "_model_module_version": "1.5.0",
            "_model_name": "ProgressStyleModel",
            "_view_count": null,
            "_view_module": "@jupyter-widgets/base",
            "_view_module_version": "1.2.0",
            "_view_name": "StyleView",
            "bar_color": null,
            "description_width": ""
          }
        },
        "caca6a18ae6b478cace3afc50929bff1": {
          "model_module": "@jupyter-widgets/base",
          "model_name": "LayoutModel",
          "model_module_version": "1.2.0",
          "state": {
            "_model_module": "@jupyter-widgets/base",
            "_model_module_version": "1.2.0",
            "_model_name": "LayoutModel",
            "_view_count": null,
            "_view_module": "@jupyter-widgets/base",
            "_view_module_version": "1.2.0",
            "_view_name": "LayoutView",
            "align_content": null,
            "align_items": null,
            "align_self": null,
            "border": null,
            "bottom": null,
            "display": null,
            "flex": null,
            "flex_flow": null,
            "grid_area": null,
            "grid_auto_columns": null,
            "grid_auto_flow": null,
            "grid_auto_rows": null,
            "grid_column": null,
            "grid_gap": null,
            "grid_row": null,
            "grid_template_areas": null,
            "grid_template_columns": null,
            "grid_template_rows": null,
            "height": null,
            "justify_content": null,
            "justify_items": null,
            "left": null,
            "margin": null,
            "max_height": null,
            "max_width": null,
            "min_height": null,
            "min_width": null,
            "object_fit": null,
            "object_position": null,
            "order": null,
            "overflow": null,
            "overflow_x": null,
            "overflow_y": null,
            "padding": null,
            "right": null,
            "top": null,
            "visibility": null,
            "width": null
          }
        },
        "fe63a94f798c48d69ba8ddc0270d0ec2": {
          "model_module": "@jupyter-widgets/controls",
          "model_name": "DescriptionStyleModel",
          "model_module_version": "1.5.0",
          "state": {
            "_model_module": "@jupyter-widgets/controls",
            "_model_module_version": "1.5.0",
            "_model_name": "DescriptionStyleModel",
            "_view_count": null,
            "_view_module": "@jupyter-widgets/base",
            "_view_module_version": "1.2.0",
            "_view_name": "StyleView",
            "description_width": ""
          }
        }
      }
    }
  },
  "cells": [
    {
      "cell_type": "markdown",
      "source": [
        "# **This notebook documents the step by step process and python codes used in vibe-coding.**\n",
        "**Goal: Teach the computer to tell emotions from texts**\n"
      ],
      "metadata": {
        "id": "kYu0vk93MPQj"
      }
    },
    {
      "cell_type": "markdown",
      "source": [
        "## Step 1: The setup\n",
        "\n",
        "We’ll need a library called TextBlob — it’s like a tiny language helper that can “feel” the mood of words."
      ],
      "metadata": {
        "id": "dD6jaNkmMxe2"
      }
    },
    {
      "cell_type": "code",
      "source": [
        "# install the library (you run this once)\n",
        "# pip install textblob\n",
        "\n",
        "from textblob import TextBlob"
      ],
      "metadata": {
        "id": "-XAW6JV2MshF"
      },
      "execution_count": 2,
      "outputs": []
    },
    {
      "cell_type": "markdown",
      "source": [
        "## Step 2: Give it some sentences to analyze\n"
      ],
      "metadata": {
        "id": "QKyx9LwyNKNN"
      }
    },
    {
      "cell_type": "code",
      "source": [
        "sentences = [\n",
        "    \"I’m feeling amazing today!\",\n",
        "    \"I hate waking up early.\",\n",
        "    \"What a beautiful morning!\",\n",
        "    \"I’m so tired and bored.\",\n",
        "    \"This is the best day ever!\"\n",
        "]"
      ],
      "metadata": {
        "id": "3jXTDyW6NFKU"
      },
      "execution_count": 5,
      "outputs": []
    },
    {
      "cell_type": "markdown",
      "source": [
        "Step 3: Let the AI check the vibe\n"
      ],
      "metadata": {
        "id": "5rXLsU57NgF1"
      }
    },
    {
      "cell_type": "code",
      "source": [
        "for text in sentences:\n",
        "    blob = TextBlob(text)\n",
        "    mood_score = blob.sentiment.polarity  # ranges from -1 (sad) to +1 (happy)\n",
        "\n",
        "    if mood_score > 0:\n",
        "        vibe = \"😊 Positive Vibe\"\n",
        "    elif mood_score < 0:\n",
        "        vibe = \"😢 Negative Vibe\"\n",
        "    else:\n",
        "        vibe = \"😐 Neutral Vibe\"\n",
        "\n",
        "    print(f\"{text} --> {vibe} (score: {mood_score})\")"
      ],
      "metadata": {
        "colab": {
          "base_uri": "https://localhost:8080/"
        },
        "id": "B4BbNxmANfag",
        "outputId": "7f75e571-69c8-4fc0-fe66-6d3b13d178aa"
      },
      "execution_count": 4,
      "outputs": [
        {
          "output_type": "stream",
          "name": "stdout",
          "text": [
            "I’m feeling amazing today! --> 😊 Positive Vibe (score: 0.7500000000000001)\n",
            "I hate waking up early. --> 😢 Negative Vibe (score: -0.35000000000000003)\n",
            "What a beautiful morning! --> 😊 Positive Vibe (score: 1.0)\n",
            "I’m so tired and bored. --> 😢 Negative Vibe (score: -0.45)\n",
            "This is the best day ever! --> 😊 Positive Vibe (score: 1.0)\n"
          ]
        }
      ]
    },
    {
      "cell_type": "markdown",
      "source": [
        "What’s happening behind the scenes:\n",
        "\n",
        "\t•\tTextBlob looks at the words and how they’re used.\n",
        "\t•\tIt knows that “amazing,” “beautiful,” and “best” are positive words.\n",
        "\t•\tIt also knows “hate,” “tired,” and “bored” usually mean negative feelings.\n",
        "\t•\tThen it gives each sentence a “vibe score.”\n",
        "\n",
        "That’s vibe coding in baby form — detecting emotional tone from words."
      ],
      "metadata": {
        "id": "6Du1rhuYOEsu"
      }
    },
    {
      "cell_type": "markdown",
      "source": [
        "## To make this vibe detector a little smarter — for example, one that can detect sarcasm or mixed emotions"
      ],
      "metadata": {
        "id": "NFF9tfqRO2Mu"
      }
    },
    {
      "cell_type": "markdown",
      "source": [
        "Now we’re moving from a baby vibe detector → to a teenage vibe detector — one that can spot sarcasm, mixed emotions, and stronger mood swings.\n"
      ],
      "metadata": {
        "id": "bTOCvBcePHhQ"
      }
    },
    {
      "cell_type": "markdown",
      "source": [
        "### Step 1: The Problem\n",
        "\n",
        "Basic vibe coding (like TextBlob) only looks at positive or negative words,\n",
        "but humans are trickier.\n",
        "\n",
        "Examples:\n",
        "\n",
        "“Oh great, another Monday.”\n",
        "“Yeah, I totally love doing homework.”\n",
        "\n",
        "Those sound positive on the surface (“great,” “love”)…\n",
        "but the vibe is clearly sarcastic 😒\n",
        "\n",
        "So we need an AI that understands context — not just words."
      ],
      "metadata": {
        "id": "Ai2muD5FPVy7"
      }
    },
    {
      "cell_type": "markdown",
      "source": [
        "### Step 2: Bring in a Smarter Brain (Transformers 🦾)\n",
        "\n",
        "Modern AI uses transformer models like BERT, RoBERTa, or DistilBERT — these are like super brains trained on millions of examples of real human speech, tweets, reviews, etc.\n",
        "\n",
        "They can “feel” tone, detect sarcasm, and sense emotional complexity.\n",
        "\n",
        "We can use a ready-made one from a library called Hugging Face Transformers.\n",
        "\n"
      ],
      "metadata": {
        "id": "9UNZzw1ePqI4"
      }
    },
    {
      "cell_type": "code",
      "source": [
        "# install first if needed\n",
        "# pip install transformers torch\n",
        "\n",
        "from transformers import pipeline\n",
        "\n",
        "# load a pre-trained emotion detection model\n",
        "emotion_analyzer = pipeline(\"text-classification\", model=\"j-hartmann/emotion-english-distilroberta-base\", return_all_scores=False)\n",
        "\n",
        "# try it out!\n",
        "sentences = [\n",
        "    \"Oh great, another Monday.\",\n",
        "    \"I can’t believe I failed again 😔\",\n",
        "    \"I’m so proud of myself today!\",\n",
        "    \"Sure, because everything always works perfectly (eye roll).\",\n",
        "    \"That movie was sad but kind of beautiful.\"\n",
        "]\n",
        "\n",
        "for text in sentences:\n",
        "    result = emotion_analyzer(text)[0]\n",
        "    print(f\"{text} → {result['label']} ({result['score']:.2f})\")"
      ],
      "metadata": {
        "colab": {
          "base_uri": "https://localhost:8080/"
        },
        "id": "uyjCvAoVOMvj",
        "outputId": "ba277f10-ab8b-4760-d1a7-b2960327fed2"
      },
      "execution_count": 7,
      "outputs": [
        {
          "output_type": "stream",
          "name": "stderr",
          "text": [
            "Device set to use cpu\n"
          ]
        },
        {
          "output_type": "stream",
          "name": "stdout",
          "text": [
            "Oh great, another Monday. → joy (0.92)\n",
            "I can’t believe I failed again 😔 → sadness (0.74)\n",
            "I’m so proud of myself today! → joy (0.85)\n",
            "Sure, because everything always works perfectly (eye roll). → neutral (0.82)\n",
            "That movie was sad but kind of beautiful. → sadness (0.97)\n"
          ]
        }
      ]
    },
    {
      "cell_type": "markdown",
      "source": [
        "Results aren't exactly what we're expecting because the model we used — j-hartmann/emotion-english-distilroberta-base — is trained mainly on explicit emotions (like joy, sadness, anger, fear, disgust, etc.), not sarcasm.\n",
        "\n",
        "So when it sees:\n",
        "\n",
        "“Oh great, another Monday.”\n",
        "it notices the word “great,” which is usually positive, and doesn’t fully catch the sarcastic tone — because it lacks vocal or situational clues.\n",
        "\n",
        "Hence:\n",
        "\n",
        "→ joy (0.92)\n",
        "\n",
        "The model isn’t “wrong” — it’s doing what it was trained for — but it’s not vibe-aware enough yet."
      ],
      "metadata": {
        "id": "1ZNV1kl0SW1O"
      }
    },
    {
      "cell_type": "markdown",
      "source": [
        "To make our results more vibe-aware we can do either of the following:\n",
        "1. Use a model trained specifically for sarcasm\n",
        "2. Use a multi-label emotion model (some models can say multiple vibes at once - like \"sad, but hopeful\")\n",
        "3. Combine Models (Vibe stacking)\n",
        "\n",
        "Real-world systems (like Spotify or TikTok) often combine:\n",
        "\t•\tEmotion model (text emotion)\n",
        "\t•\tSarcasm model\n",
        "\t•\tSentiment model\n",
        "\t•\tContext model (user history or audio tone)\n",
        "\n",
        "Together, that fusion gives a much stronger “vibe sense.”\n",
        "\n",
        "For the purpose of this exercise we would try out a multi-label emotion model"
      ],
      "metadata": {
        "id": "XYF78TxtSxoM"
      }
    },
    {
      "cell_type": "code",
      "source": [
        "# install first if needed\n",
        "# pip install transformers torch\n",
        "\n",
        "from transformers import pipeline\n",
        "\n",
        "# load a pre-trained emotion detection model\n",
        "from transformers import pipeline\n",
        "sarcasm_detector = pipeline(\"text-classification\", model=\"mrm8488/t5-base-finetuned-sarcasm-twitter\")\n",
        "sarcasm_detector(\"Oh great, another Monday.\")\n",
        "# try it out!\n",
        "sentences = [\n",
        "    \"Oh great, another Monday.\",\n",
        "    \"I can’t believe I failed again 😔\",\n",
        "    \"I’m so proud of myself today!\",\n",
        "    \"Sure, because everything always works perfectly (eye roll).\",\n",
        "    \"That movie was sad but kind of beautiful.\"\n",
        "]\n",
        "\n",
        "for text in sentences:\n",
        "    result = emotion_analyzer(text)[0]\n",
        "    print(f\"{text} → {result['label']} ({result['score']:.2f})\")"
      ],
      "metadata": {
        "colab": {
          "base_uri": "https://localhost:8080/",
          "height": 353,
          "referenced_widgets": [
            "1e19d87060bc404a85628f3ca7437e68",
            "d643d7b61f8148c4ada0e83695eda3c7",
            "825e74e32be4480aa1015c80b4d1b8f9",
            "f0b94c50e3c54259ba17046e758d5d01",
            "9e8f3d2e88394389b372cd028c9d1abd",
            "fce02b09eb5f45ebb04abb36356bc9b2",
            "c4e061a40e3649a0acdd9d4a8b047f49",
            "1efad2cd9b9040c3ae2e46464fdba2c8",
            "d6c647f8c737482cb10cde6c36eaccaa",
            "c8b3ed340b1041c3b02ed5e13720e918",
            "a5882d1d39664e169eeb28dcbc9f4bac",
            "b5b07f2a6d2a410c8a0170ede833e838",
            "0bd237a2474a41f79f484477bb6f8a39",
            "42652c4c6fda4a3f8e9d0a276fe59b25",
            "9d13a75d405a4f3db98a3197b70225c1",
            "97cafb70c480470ab4e566209cedd243",
            "cf4203dae6a143e198641ed4266fe53a",
            "97ee209c0fef42e0b36ac17c8900116b",
            "c6cb361884e44c43a3aacad0eecf7b6f",
            "1731468562c942ecb3303dd42f5e70d4",
            "4795d3101246469f811924ead8b53d55",
            "5ebf5af329d8495c869ba47b056ec44c",
            "2c400072892f411ca522563f8292161a",
            "4c14dd1f6ead4b029985676172028ce7",
            "911a7397050349228949da38fef9a15c",
            "8166dbe8aa3e4c29bf69c6de0a7ef692",
            "f8190c146ea6435abf440f92f388f9fa",
            "ec5a3ec8c68442a2a8a31c143cb68210",
            "c1280d6581f846b29258f91694700e6e",
            "9e05019ef3344db4b41d57e9f90d5601",
            "78116cff1da946e4b96836bc5e995abf",
            "7a995012606342269fe9cad88f1073f6",
            "c7fd176339b24ad3879a1ebcef3d4199",
            "9056cec8058c43569953c18f027f06de",
            "09e4a2fcd8f84e518852c6c172a08b4e",
            "80e699b430544acd894774427bcc90e7",
            "4c6db7b225c8463db96e3c33c27cc6be",
            "a7cac4d9ac7a47ad80e85aaf0ba47772",
            "4f9e6efbdff74929aa8db4318ad2fd28",
            "e769eed685244e808c157e807fc102b0",
            "1df7cd43800f4a93a9e625fbc2f1201d",
            "dfe69f114c1043058ffb43a7b6d7a9ef",
            "9c6bf7bde3c24f728a0aa2d35a262c5b",
            "729cea36358b48c8ab5a78d115cd7c0a",
            "e31254e933af41c09e937004c1cc7f38",
            "81f6308052594121a7e2ed4749ff7114",
            "9084f3596cca41e5b936dfba8bd7f60f",
            "263d80faf6854f9483f1c09fc5f1d69c",
            "8ad6a61f4ab846e4b38bed6a37358df1",
            "81fba39c09434bb194db94da26bbf1c6",
            "7a8ebaec87754745b37efe2c76b5a77b",
            "6041209b700b47c4a21e75d27f4379d7",
            "77f267e667f949e6afc4885bb81a9a3c",
            "caca6a18ae6b478cace3afc50929bff1",
            "fe63a94f798c48d69ba8ddc0270d0ec2"
          ]
        },
        "id": "ZjkVhPGqUt5m",
        "outputId": "a927b1f0-a52b-4d8e-bcdf-37368d5d3292"
      },
      "execution_count": 9,
      "outputs": [
        {
          "output_type": "display_data",
          "data": {
            "text/plain": [
              "config.json: 0.00B [00:00, ?B/s]"
            ],
            "application/vnd.jupyter.widget-view+json": {
              "version_major": 2,
              "version_minor": 0,
              "model_id": "1e19d87060bc404a85628f3ca7437e68"
            }
          },
          "metadata": {}
        },
        {
          "output_type": "display_data",
          "data": {
            "text/plain": [
              "model.safetensors:   0%|          | 0.00/892M [00:00<?, ?B/s]"
            ],
            "application/vnd.jupyter.widget-view+json": {
              "version_major": 2,
              "version_minor": 0,
              "model_id": "b5b07f2a6d2a410c8a0170ede833e838"
            }
          },
          "metadata": {}
        },
        {
          "output_type": "stream",
          "name": "stderr",
          "text": [
            "Some weights of T5ForSequenceClassification were not initialized from the model checkpoint at mrm8488/t5-base-finetuned-sarcasm-twitter and are newly initialized: ['classification_head.dense.bias', 'classification_head.dense.weight', 'classification_head.out_proj.bias', 'classification_head.out_proj.weight']\n",
            "You should probably TRAIN this model on a down-stream task to be able to use it for predictions and inference.\n"
          ]
        },
        {
          "output_type": "display_data",
          "data": {
            "text/plain": [
              "tokenizer_config.json:   0%|          | 0.00/25.0 [00:00<?, ?B/s]"
            ],
            "application/vnd.jupyter.widget-view+json": {
              "version_major": 2,
              "version_minor": 0,
              "model_id": "2c400072892f411ca522563f8292161a"
            }
          },
          "metadata": {}
        },
        {
          "output_type": "display_data",
          "data": {
            "text/plain": [
              "spiece.model:   0%|          | 0.00/792k [00:00<?, ?B/s]"
            ],
            "application/vnd.jupyter.widget-view+json": {
              "version_major": 2,
              "version_minor": 0,
              "model_id": "9056cec8058c43569953c18f027f06de"
            }
          },
          "metadata": {}
        },
        {
          "output_type": "display_data",
          "data": {
            "text/plain": [
              "special_tokens_map.json: 0.00B [00:00, ?B/s]"
            ],
            "application/vnd.jupyter.widget-view+json": {
              "version_major": 2,
              "version_minor": 0,
              "model_id": "e31254e933af41c09e937004c1cc7f38"
            }
          },
          "metadata": {}
        },
        {
          "output_type": "stream",
          "name": "stderr",
          "text": [
            "You are using the default legacy behaviour of the <class 'transformers.models.t5.tokenization_t5.T5Tokenizer'>. This is expected, and simply means that the `legacy` (previous) behavior will be used so nothing changes for you. If you want to use the new behaviour, set `legacy=False`. This should only be set if you understand what it means, and thoroughly read the reason why this was added as explained in https://github.com/huggingface/transformers/pull/24565\n",
            "Device set to use cpu\n"
          ]
        },
        {
          "output_type": "stream",
          "name": "stdout",
          "text": [
            "Oh great, another Monday. → joy (0.99)\n",
            "I can’t believe I failed again 😔 → sadness (1.00)\n",
            "I’m so proud of myself today! → joy (1.00)\n",
            "Sure, because everything always works perfectly (eye roll). → joy (1.00)\n",
            "That movie was sad but kind of beautiful. → sadness (0.98)\n"
          ]
        }
      ]
    },
    {
      "cell_type": "markdown",
      "source": [
        "Why sarcasm is hard for AI\n",
        "\n",
        "Sarcasm needs context, tone, or history — things text alone can’t fully show.\n",
        "\n",
        "For example:\n",
        "\n",
        "“Wow, you’re so early…”\n",
        "If the person actually came late, the vibe is sarcastic. But unless the AI knows that context, it assumes “wow” + “so” + “early” = positive.\n",
        "\n",
        "That’s why sarcasm detection is an advanced branch of vibe coding. It often needs:\n",
        "  More context (previous sentences, speaker style)\n",
        "  Tone of voice (audio input)\n",
        "  Or models trained on sarcastic datasets (like “Twitter Sarcasm Corpus”)"
      ],
      "metadata": {
        "id": "X0tGfgctWFaA"
      }
    },
    {
      "cell_type": "markdown",
      "source": [
        "### **Following this train of thought we would like to see how we could take this same idea and make a music or video vibe detector next, so the AI can feel the mood of a song or clip, not just text.**"
      ],
      "metadata": {
        "id": "7PnHmtOWXy-1"
      }
    },
    {
      "cell_type": "markdown",
      "source": [
        "### **Step 1: The New Problem — Feeling the Mood of Music & Video**\n",
        "\n",
        "\n",
        "*Imagine these:*\n",
        "\n",
        "🎵 *A slow piano ballad → feels melancholy, even if no lyrics.*\n",
        "\n",
        "🎥 *A fast-cut action trailer with deep bass → feels intense or thrilling.*\n",
        "\n",
        "🎶 *A pop song with major chords and upbeat tempo → feels joyful.*\n",
        "\n",
        "🧍 *A TikTok clip where someone is dancing but the music is ironic → mixed vibes.*\n",
        "\n",
        "Unlike text, here the “vibe” lives in sound + visuals + lyrics.\n",
        "So, our vibe detector must understand:\n",
        "\n",
        "🔊 Audio features → tempo, pitch, energy, melody\n",
        "\n",
        "📝 Lyrics (if present) → using the text vibe detector we built\n",
        "\n",
        "👁 Visual cues → colors, brightness, facial expressions, motion"
      ],
      "metadata": {
        "id": "dTVNlNwxYSnD"
      }
    },
    {
      "cell_type": "markdown",
      "source": [
        "### **Step 2: Bring in Audio/Video Brains**"
      ],
      "metadata": {
        "id": "-hnfgVheaE2U"
      }
    },
    {
      "cell_type": "markdown",
      "source": [
        "| Modality        | Common Tools / Models                                                                             |\n",
        "| --------------- | ------------------------------------------------------------------------------------------------- |\n",
        "| **Audio**       | OpenL3 (audio embeddings), YAMNet (sound classification), Musicnn (genre/mood), Wav2Vec2 (speech) |\n",
        "| **Lyrics/Text** | Transformers (like before)                                                                        |\n",
        "| **Visuals**     | CLIP (image+text), OpenCV (basic), or ViT (Vision Transformer) for emotion scenes                 |\n"
      ],
      "metadata": {
        "id": "0fWpBo3AZ_hs"
      }
    },
    {
      "cell_type": "markdown",
      "source": [
        "We can combine these into a multimodal vibe pipeline"
      ],
      "metadata": {
        "id": "YtzYIaZ5aClC"
      }
    },
    {
      "cell_type": "markdown",
      "source": [
        "### **Step 3: A Mini Music Vibe Detector (Demo Code)**\n",
        "\n",
        "Below is a simplified Python example using 🟡 librosa to get audio features + a simple rule-based mood guess.\n",
        "(You could later swap the “mood detector” with a real model like musicnn.)\n",
        "\n",
        "📝 This focuses on instrumental audio mood, not lyrics."
      ],
      "metadata": {
        "id": "Y0-gnxMzaoZc"
      }
    },
    {
      "cell_type": "code",
      "source": [
        "# 🎧 Mini Music Vibe Detector (Beginner Demo)\n",
        "# pip install librosa numpy\n",
        "\n",
        "import librosa\n",
        "import numpy as np\n",
        "\n",
        "def detect_music_vibe(audio_path):\n",
        "    # 1️⃣ Load the audio file\n",
        "    y, sr = librosa.load(audio_path, duration=60)  # load first 60 seconds\n",
        "\n",
        "    # 2️⃣ Extract basic features\n",
        "    tempo, _ = librosa.beat.beat_track(y=y, sr=sr)\n",
        "    energy = np.mean(librosa.feature.rms(y=y))\n",
        "    brightness = np.mean(librosa.feature.spectral_centroid(y=y, sr=sr))\n",
        "\n",
        "    # 3️⃣ Simple vibe classification rules\n",
        "    if tempo > 120 and energy > 0.05:\n",
        "        vibe = \"🎉 Upbeat / Energetic\"\n",
        "    elif brightness < 2000 and energy < 0.03:\n",
        "        vibe = \"🌧 Sad / Calm / Reflective\"\n",
        "    else:\n",
        "        vibe = \"🎶 Mixed / Neutral Mood\"\n",
        "\n",
        "    return {\n",
        "        \"tempo\": round(tempo, 2),\n",
        "        \"energy\": float(energy),\n",
        "        \"brightness\": float(brightness),\n",
        "        \"detected_vibe\": vibe\n",
        "    }\n"
      ],
      "metadata": {
        "id": "u-ClYMuYWY_0"
      },
      "execution_count": 11,
      "outputs": []
    },
    {
      "cell_type": "markdown",
      "source": [
        "This little demo extracts tempo, energy, and brightness — super simple audio mood cues.\n",
        "Later, you can plug in models like:\n",
        "\n",
        "musicnn\n",
        " → pre-trained for music mood/genre.\n",
        "\n",
        "OpenL3\n",
        " → to embed audio → classify moods with a custom model."
      ],
      "metadata": {
        "id": "DHp4UDExbktL"
      }
    },
    {
      "cell_type": "markdown",
      "source": [
        "### **Step 4: Video Vibe Detector (Concept)**\n",
        "\n",
        "For videos, you combine:\n",
        "\n",
        "Audio track → use the music detector above\n",
        "\n",
        "Transcript (speech) → use a speech-to-text model like Whisper → then feed the text to our teenage vibe detector 🧠\n",
        "\n",
        "Frames → sample 1 frame per second → run through a Vision Transformer (ViT) or CLIP to detect scene emotion (e.g., bright colors, facial expressions, action).\n",
        "\n",
        "Mini demo for video frames (concept):"
      ],
      "metadata": {
        "id": "deooYNj7bw87"
      }
    },
    {
      "cell_type": "code",
      "source": [
        "# pip install opencv-python\n",
        "import cv2\n",
        "\n",
        "def extract_frames(video_path, frame_rate=1):\n",
        "    cap = cv2.VideoCapture(video_path)\n",
        "    fps = int(cap.get(cv2.CAP_PROP_FPS))\n",
        "    frame_interval = int(fps / frame_rate)\n",
        "    frames = []\n",
        "    i = 0\n",
        "    while True:\n",
        "        ret, frame = cap.read()\n",
        "        if not ret:\n",
        "            break\n",
        "        if i % frame_interval == 0:\n",
        "            frames.append(frame)\n",
        "        i += 1\n",
        "    cap.release()\n",
        "    return frames\n",
        "\n",
        "frames = extract_frames(\"clip.mp4\")\n",
        "print(f\"Extracted {len(frames)} frames for vibe analysis 🖼\")\n"
      ],
      "metadata": {
        "colab": {
          "base_uri": "https://localhost:8080/"
        },
        "id": "TW89BNQLbYnb",
        "outputId": "45a24360-68e0-4a66-bc7c-6b1c55805abb"
      },
      "execution_count": 12,
      "outputs": [
        {
          "output_type": "stream",
          "name": "stdout",
          "text": [
            "Extracted 0 frames for vibe analysis 🖼\n"
          ]
        }
      ]
    },
    {
      "cell_type": "markdown",
      "source": [
        "You’d then send these frames into a CLIP model or emotion classifier (e.g., “happy scene,” “tense,” “romantic,” “dark”), and blend that with the audio+text analysis."
      ],
      "metadata": {
        "id": "bGUy0hD3cD3D"
      }
    },
    {
      "cell_type": "markdown",
      "source": [
        "### **Step 5: Fuse All the Vibes**\n",
        "\n",
        "Finally, we combine the scores from:\n",
        "\n",
        "🎶 Audio mood\n",
        "\n",
        "📝 Lyrics / Speech vibe\n",
        "\n",
        "👁 Visual scene vibe\n",
        "\n",
        "Example (pseudo):"
      ],
      "metadata": {
        "id": "_hGY4LiCcFQo"
      }
    },
    {
      "cell_type": "code",
      "source": [
        "# final_vibe = weighted_average([audio_vibe, text_vibe, visual_vibe])\n",
        "\n",
        "# This is a conceptual representation of combining different vibe scores.\n",
        "# In a real implementation, you would define how to combine the scores\n",
        "# from audio, text, and visual analysis (e.g., using numerical scores and weights)."
      ],
      "metadata": {
        "id": "XG5h55HPcN8v"
      },
      "execution_count": 14,
      "outputs": []
    },
    {
      "cell_type": "markdown",
      "source": [
        "There are already some multimodal models you can experiment with:\n",
        "\n",
        "🧠 CLAP (Contrastive Language-Audio Pretraining) → audio + text mood understanding\n",
        "\n",
        "🧠 VideoCLIP / ViViT → video mood/scene analysis\n",
        "\n",
        "🧠 AudioSpectrogram Transformers → detect music genre, mood, or emotion directly."
      ],
      "metadata": {
        "id": "U-AIh5x8co2D"
      }
    },
    {
      "cell_type": "markdown",
      "source": [
        "## **In summary:**\n",
        "\n",
        "Text → Teenage vibe detector 🧠\n",
        "\n",
        "Music → Adds emotional rhythm and sonic energy 🎧\n",
        "\n",
        "Video → Adds visual emotion and atmosphere 👁\n",
        "\n",
        "➕ Fusion = A full sensory vibe intelligence 🌈🤖"
      ],
      "metadata": {
        "id": "wndcEkE1cxw4"
      }
    }
  ]
}